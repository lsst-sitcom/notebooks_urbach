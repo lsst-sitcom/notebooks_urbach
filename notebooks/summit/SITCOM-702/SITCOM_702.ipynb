{
 "cells": [
  {
   "cell_type": "markdown",
   "id": "430e376d-39a8-416e-916f-f65569b266cc",
   "metadata": {},
   "source": [
    "# SITCOM - 702\n",
    "\n",
    "Repeat of SITCOM-627, combining Ioana's notebook and Guillem's AOS notebook.\n",
    "\n",
    "This notebook contains the execution for the measuring of astigmatism described in https://jira.lsstcorp.org/browse/SITCOM-627.\n",
    "\n",
    "The notebook is organized in 6 sections:\n",
    "\n",
    "1. Conditions assessment\n",
    "2. Setup notebook\n",
    "3. Declare target and filter\n",
    "4. Slew to target object.\n",
    "5. Check target star field, signal level and declare exposure time. \n",
    "6. Perform the data acquisition sequence. \n",
    "\n",
    "\n",
    "\n",
    "Goal: Directly measure image degradation due to astigmatism on AuxTel by sweeping through focus.\n",
    "\n",
    "Idea: If we sweep through focus we will be able to measure image degradation due to astigmatism by (a) comparing the FWHM of each individual axis at its best focus to the FWHM of the circle of least confusion and (b) measuring the distance between the best focus of each axis (these measurements should agree, and hopefully also agree with Zernikes).\n",
    "\n",
    "Observing sequence (must occur on a night of decent seeing (<1.5 arcsec):\n",
    "\n",
    "Slew to a nearby bright star and perform CWFS/WEP.\n",
    "Focus on star of magnitude 7-10, with elevation between 45 and 75 degrees, with the target star in a position where spectroscopy can be performed.\n",
    "\n",
    "    - Before 3am CLT, use HD60753. \n",
    "    - Between 3 and 4am CLT, use HD115169.\n",
    "    \n",
    "Sweep through focus by moving M2 in steps of 0.02 mm from -0.1 mm to +0.1 mm (the idea is to move the focal plane in steps of ~1mm). At each position:\n",
    "\n",
    "    - Take 2x 30s exposures at each position with the red filter in.\n",
    "    - Take 2x 30s exposures at each position with the holo disperser in and no blocking filters.\n",
    "    \n",
    "    \n",
    "# Assess that conditions meet criteria\n",
    "\n",
    "This test should be performed when the seeing is \"decent\", under 1 arcsec.\n",
    "\n",
    "Preferably, run this execution later in the night, when dome seeing has settled down and seeing is more stable. Confirm that the temperatures in and outside the dome are within 1 degree.\n",
    "\n"
   ]
  },
  {
   "cell_type": "markdown",
   "id": "8f6e0ddd-0be4-4831-aac2-119578d90edf",
   "metadata": {},
   "source": [
    "## Questions I still need to answer:\n",
    "\n",
    "1. Does the holo disperser automatically align itself? - Answer from Erik: yes\n",
    "2. Where are the scripts that I am running/where do I need to run this notebook from?\n",
    "3. What targets do I want to use?\n",
    "4. Does this script run successfully on TTS?"
   ]
  },
  {
   "cell_type": "markdown",
   "id": "02e711ed-ebbe-44cb-8590-c601b8cfe5e2",
   "metadata": {},
   "source": [
    "# Setup\n",
    "\n",
    "### Import Libraries"
   ]
  },
  {
   "cell_type": "code",
   "execution_count": null,
   "id": "554b3594-f4c8-428b-a76a-f5dc149cbe68",
   "metadata": {},
   "outputs": [],
   "source": [
    "import sys\n",
    "import asyncio\n",
    "import time\n",
    "import os\n",
    "\n",
    "import numpy as np\n",
    "import logging \n",
    "import yaml\n",
    "import matplotlib.pyplot as plt\n",
    "from astropy.time import Time\n",
    "import astropy\n",
    "\n",
    "from lsst.ts import salobj\n",
    "from lsst.ts.externalscripts.auxtel.latiss_wep_align import LatissWEPAlign\n",
    "from lsst.ts.observatory.control.utils import RotType\n",
    "\n",
    "from lsst.ts.idl.enums.Script import ScriptState\n",
    "\n",
    "import yaml\n",
    "import logging\n",
    "import jsonschema\n",
    "import asyncio\n",
    "\n",
    "from lsst.ts import salobj\n",
    "from lsst.ts.observatory.control.auxtel import ATQueue\n",
    "from lsst.ts.idl.enums.ScriptQueue import Location, SalIndex\n",
    "from lsst.ts.observatory.control.auxtel.atcs import ATCS\n",
    "from lsst.ts.observatory.control.utils import RotType"
   ]
  },
  {
   "cell_type": "markdown",
   "id": "9a6f40b4-5841-44f5-93ac-52ec63292c89",
   "metadata": {},
   "source": [
    "### Setting up the logger"
   ]
  },
  {
   "cell_type": "code",
   "execution_count": null,
   "id": "b82ff827-5bc5-426f-8e72-90e32d644efe",
   "metadata": {},
   "outputs": [],
   "source": [
    "logger = logging.getLogger(\"SITCOM-702\")\n",
    "logger.level = logging.DEBUG"
   ]
  },
  {
   "cell_type": "markdown",
   "id": "7538a36c-1ee4-4e88-84ee-63f2ec817a69",
   "metadata": {},
   "source": [
    "### Getting unique index for script"
   ]
  },
  {
   "cell_type": "code",
   "execution_count": null,
   "id": "dbf39fb3-2313-46fb-b106-a0d7d98a01a3",
   "metadata": {},
   "outputs": [],
   "source": [
    "logger.info(f'Your UID is {os.getuid()}')\n",
    "index = os.getuid() * 10 + np.random.randint(0, 9)\n",
    "\n",
    "logger.info(f'The generated index is {index}')"
   ]
  },
  {
   "cell_type": "markdown",
   "id": "1be995fd-6b6a-4206-b15f-ec37944b6b6d",
   "metadata": {},
   "source": [
    "### Instantiate CWFS Script"
   ]
  },
  {
   "cell_type": "code",
   "execution_count": null,
   "id": "7152ba0e-f57e-421c-9d90-424784a67915",
   "metadata": {},
   "outputs": [],
   "source": [
    "script = LatissWEPAlign(index=index, remotes=True)  # this essentially calls the init method\n",
    "await script.start_task"
   ]
  },
  {
   "cell_type": "markdown",
   "id": "b5a6119e-4175-442a-b6d6-f8c139fa0ddc",
   "metadata": {},
   "source": [
    "### Forward ATCS and LATISS"
   ]
  },
  {
   "cell_type": "code",
   "execution_count": null,
   "id": "e22cacc7-0f4b-4c6e-b2b3-bf4c8cd60e87",
   "metadata": {},
   "outputs": [],
   "source": [
    "atcs = script.atcs\n",
    "latiss = script.latiss"
   ]
  },
  {
   "cell_type": "markdown",
   "id": "06bf7e16-7ab7-43b3-ad4a-bfbc76d5e158",
   "metadata": {},
   "source": [
    "### Set up script log level"
   ]
  },
  {
   "cell_type": "code",
   "execution_count": null,
   "id": "41913e07-a8f0-4966-903e-ae7e11b6e4aa",
   "metadata": {},
   "outputs": [],
   "source": [
    "script.log.level = logging.DEBUG"
   ]
  },
  {
   "cell_type": "markdown",
   "id": "bf055026-2d9e-46a5-a47e-fc280c7d8f57",
   "metadata": {},
   "source": [
    "### Write start info into EFD"
   ]
  },
  {
   "cell_type": "code",
   "execution_count": null,
   "id": "e1099901-6753-4e69-8957-ea10b4818c49",
   "metadata": {},
   "outputs": [],
   "source": [
    "script.log.info(f'START -- SITCOM-702 Astigmatism test -- at {Time.now()}')"
   ]
  },
  {
   "cell_type": "markdown",
   "id": "11a289fa-ecb3-47c8-8081-169d0cee0233",
   "metadata": {},
   "source": [
    "# Target and filter\n",
    "\n",
    "### Declare target: Choose target.\n",
    "\n",
    "Based on the elevation vs time plot available in the jira ticket https://jira.lsstcorp.org/browse/SITCOM-702, choose the target that is between 45 and 75 degrees elevation at the time of executing this notebook."
   ]
  },
  {
   "cell_type": "code",
   "execution_count": null,
   "id": "2fd4c070-22c8-4a7e-9b8a-0c9f4e80d087",
   "metadata": {
    "tags": []
   },
   "outputs": [],
   "source": [
    "target = 'HD 60753' # or whatever\n",
    "logger.info(f'Selected target is {target}')"
   ]
  },
  {
   "cell_type": "markdown",
   "id": "638f70e5-acd9-4737-b326-e3fbe79e441d",
   "metadata": {},
   "source": [
    "# Slew to target"
   ]
  },
  {
   "cell_type": "code",
   "execution_count": null,
   "id": "0051720b-51e5-47d2-9126-ad04c79fdf38",
   "metadata": {},
   "outputs": [],
   "source": [
    "await script.atcs.slew_object(target, rot_type=RotType.PhysicalSky)"
   ]
  },
  {
   "cell_type": "markdown",
   "id": "b6d153e3-1017-4277-a414-3bd641a24df6",
   "metadata": {},
   "source": [
    "### ATAOS corrections\n",
    "\n",
    "ATAOS corrections must be enabled for this test. In the cell below, ATAOS corrections will be enabled, in case they were not."
   ]
  },
  {
   "cell_type": "code",
   "execution_count": null,
   "id": "6130f5c6-5cdc-4fff-8e58-0d1914f211a3",
   "metadata": {},
   "outputs": [],
   "source": [
    "corrections_enabled = await script.atcs.rem.ataos.evt_correctionEnabled.aget()\n",
    "if not (corrections_enabled.m1 and corrections_enabled.hexapod and corrections_enabled.atspectrograph):\n",
    "    cmd = await script.atcs.rem.ataos.cmd_enableCorrection.set_start(m1=True, hexapod=True, atspectrograph=True)\n",
    "    logger.info(f'ATAOS corrections enabled: {cmd.result}')\n",
    "else:\n",
    "    logger.info(f'ATAOS corrections already enabled')"
   ]
  },
  {
   "cell_type": "markdown",
   "id": "c49a91a9-cb45-4a0b-bb6a-b5f519179b5c",
   "metadata": {},
   "source": [
    "# Taking measurements"
   ]
  },
  {
   "cell_type": "markdown",
   "id": "25ae81bc-53c4-468d-85be-2d0412590df9",
   "metadata": {
    "tags": []
   },
   "source": [
    "## PERFORM WEP AND THEN CONTINUE"
   ]
  },
  {
   "cell_type": "code",
   "execution_count": null,
   "id": "9fadd69c-cbee-4532-9f03-fe27ebddea69",
   "metadata": {},
   "outputs": [],
   "source": [
    "offsets = {\n",
    "    \"z\": np.linspace(-0.1,0.1, 11),\n",
    "}\n"
   ]
  },
  {
   "cell_type": "code",
   "execution_count": null,
   "id": "62332db8-d24b-4502-8ca2-2808c6ecd344",
   "metadata": {},
   "outputs": [],
   "source": [
    "script_path = \"auxtel/latiss_intra_extra_focal_data.py\"\n",
    "band_filter = 'r'\n",
    "exposure_time = 30\n",
    "\n",
    "for var, offset_list in offsets.items():\n",
    "    print(var)\n",
    "    for offset in offset_list:\n",
    "        script_config = {\n",
    "            'filter': f\"SDSS{band_filter}_65mm\", \n",
    "            'grating': 'empty_1',\n",
    "            'exposure_time': exposure_time,\n",
    "            f'offset_{var}': float(offset),\n",
    "            'reason': f'Focus_Sweep_offset_{var}_{offset:.3f}',\n",
    "            'program': 'SITCOM-702',\n",
    "        }\n",
    "        script_description=f\"Testing SITCOM-702 offset_{var} {offset}\"\n",
    "\n",
    "        await atq.validate_config(is_standard=False, script=script_path, config=script_config)\n",
    "\n",
    "        await atq.add_external(script=script_path, config=script_config, description=script_description)\n"
   ]
  },
  {
   "cell_type": "code",
   "execution_count": null,
   "id": "16cda94c-1a66-4a7b-bb9a-a7678426b26c",
   "metadata": {},
   "outputs": [],
   "source": [
    "script_path = \"auxtel/latiss_intra_extra_focal_data.py\"\n",
    "exposure_time = 30\n",
    "\n",
    "for var, offset_list in offsets.items():\n",
    "    print(var)\n",
    "    for offset in offset_list:\n",
    "        script_config = {\n",
    "            'filter': \"empty_1\", \n",
    "            'grating': 'holo4_003',\n",
    "            'exposure_time': exposure_time,\n",
    "            f'offset_{var}': float(offset),\n",
    "            'reason': f'Focus_Sweep_offset_{var}_{offset:.3f}',\n",
    "            'program': 'SITCOM-702',\n",
    "        }\n",
    "        script_description=f\"Testing SITCOM-702 offset_{var} {offset}\"\n",
    "\n",
    "        await atq.validate_config(is_standard=False, script=script_path, config=script_config)\n",
    "\n",
    "        await atq.add_external(script=script_path, config=script_config, description=script_description)\n"
   ]
  },
  {
   "cell_type": "code",
   "execution_count": null,
   "id": "da501b9b-cd38-4818-ac05-2f3a06681030",
   "metadata": {},
   "outputs": [],
   "source": [
    "# Move back to the original focus offset position\n",
    "await atcs.rem.ataos.cmd_offset.set_start(z= -(z_offset_end + z_offset_step))\n",
    "logger.info(f'Back to the original focus offset position \\n {await script.atcs.rem.ataos.evt_focusOffsetSummary.aget()}')"
   ]
  },
  {
   "cell_type": "code",
   "execution_count": null,
   "id": "5bd289e6-c5b0-4c7f-abbc-f26318f62d1d",
   "metadata": {},
   "outputs": [],
   "source": [
    "# Check that it's back in the original focus position\n",
    "current_focus_offset = await script.atcs.rem.ataos.evt_focusOffsetSummary.aget()\n",
    "script.log.info(f'Current focus offset is {current_focus_offset}'"
   ]
  },
  {
   "cell_type": "code",
   "execution_count": null,
   "id": "ebbaaba9-3067-417f-b1fa-139749962954",
   "metadata": {},
   "outputs": [],
   "source": [
    "diff = current_focus_offset.userApplied - original_focus_offset.userApplied\n",
    "print(f'Difference between current and original user Applied focus is {diff:0.2f} mm')"
   ]
  },
  {
   "cell_type": "markdown",
   "id": "55f8ddf2-8a0c-4e4f-b21f-5a5c10ad5ffa",
   "metadata": {},
   "source": [
    "## Write end info into EFD"
   ]
  },
  {
   "cell_type": "code",
   "execution_count": null,
   "id": "49233fac-287b-4b0e-b661-27737ca6d775",
   "metadata": {},
   "outputs": [],
   "source": [
    "script.log.info(f'END -- SITCOM-702 Astigmatism test -- at {Time.now()}')"
   ]
  }
 ],
 "metadata": {
  "kernelspec": {
   "display_name": "LSST",
   "language": "python",
   "name": "lsst"
  },
  "language_info": {
   "codemirror_mode": {
    "name": "ipython",
    "version": 3
   },
   "file_extension": ".py",
   "mimetype": "text/x-python",
   "name": "python",
   "nbconvert_exporter": "python",
   "pygments_lexer": "ipython3",
   "version": "3.10.9"
  }
 },
 "nbformat": 4,
 "nbformat_minor": 5
}
